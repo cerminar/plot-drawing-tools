{
  "nbformat": 4,
  "nbformat_minor": 0,
  "metadata": {
    "colab": {
      "provenance": []
    },
    "kernelspec": {
      "name": "python3",
      "display_name": "Python 3"
    },
    "language_info": {
      "name": "python"
    }
  },
  "cells": [
    {
      "cell_type": "markdown",
      "source": [
        "# Import packages"
      ],
      "metadata": {
        "id": "cCXIn3MKpJrw"
      }
    },
    {
      "cell_type": "code",
      "source": [
        "pip install awkward"
      ],
      "metadata": {
        "id": "PP6h0DJ1NGUB"
      },
      "execution_count": null,
      "outputs": []
    },
    {
      "cell_type": "code",
      "source": [
        "pip install uproot"
      ],
      "metadata": {
        "id": "oHh65CjRNPl9"
      },
      "execution_count": null,
      "outputs": []
    },
    {
      "cell_type": "code",
      "source": [
        "pip install coffea"
      ],
      "metadata": {
        "id": "FYZo0gDZNQ_D"
      },
      "execution_count": null,
      "outputs": []
    },
    {
      "cell_type": "code",
      "execution_count": null,
      "metadata": {
        "id": "odbe6GfxBXpj"
      },
      "outputs": [],
      "source": [
        "import awkward as ak\n",
        "import uproot\n",
        "from coffea.nanoevents import NanoEventsFactory, NanoAODSchema, BaseSchema"
      ]
    },
    {
      "cell_type": "markdown",
      "source": [
        "# Read .ROOT files into a dask awkward array"
      ],
      "metadata": {
        "id": "Mv-thNq2pqm5"
      }
    },
    {
      "cell_type": "code",
      "source": [
        "NanoAODSchema.warn_missing_crossrefs = False\n",
        "\n",
        "fname = \"https://raw.githubusercontent.com/CoffeaTeam/coffea/master/tests/samples/nano_dy.root\"\n",
        "events = NanoEventsFactory.from_root(\n",
        "    {fname: \"Events\"},\n",
        "    schemaclass=NanoAODSchema\n",
        ").events()"
      ],
      "metadata": {
        "id": "YnSNuobqFroN"
      },
      "execution_count": null,
      "outputs": []
    },
    {
      "cell_type": "code",
      "source": [
        "events.fields"
      ],
      "metadata": {
        "id": "dnF_COACONUS"
      },
      "execution_count": null,
      "outputs": []
    },
    {
      "cell_type": "code",
      "source": [
        "def getUpTree(uprobj, name):\n",
        "    parts = name.split('/')\n",
        "    # if len(parts) > 1:\n",
        "    #     return getUpTree(uprobj, '/'.join(parts[1:]))\n",
        "    return uprobj[name]"
      ],
      "metadata": {
        "id": "lEE3-7vdPGL5"
      },
      "execution_count": null,
      "outputs": []
    },
    {
      "cell_type": "markdown",
      "source": [
        "# Opening a root file without reading the contents"
      ],
      "metadata": {
        "id": "FivhWwjypwjV"
      }
    },
    {
      "cell_type": "code",
      "source": [
        "tree_file = uproot.open(fname)"
      ],
      "metadata": {
        "id": "6K3TtmoyoEaY"
      },
      "execution_count": null,
      "outputs": []
    },
    {
      "cell_type": "code",
      "source": [
        "ttree = getUpTree(tree_file, 'Events')"
      ],
      "metadata": {
        "id": "715j-ApOS-EM"
      },
      "execution_count": null,
      "outputs": []
    },
    {
      "cell_type": "code",
      "source": [
        "events8881 = NanoEventsFactory.from_root(\n",
        "    ttree,\n",
        "    schemaclass=BaseSchema,\n",
        "    entry_start = 0,\n",
        "    entry_stop = 1,\n",
        "    metadata={\"dataset\": \"DYJets\"}\n",
        ").events()"
      ],
      "metadata": {
        "id": "QOMfd8GTTLQc"
      },
      "execution_count": null,
      "outputs": []
    },
    {
      "cell_type": "markdown",
      "source": [
        "## How can I rename luminosityBlock to Block? How can I basically map old fields to the new fields? This is because we can have fields TkEleL2_eta, GenEl_eta . I want to have the _eta part. This would be ideally done before the .compute() call."
      ],
      "metadata": {
        "id": "yJ2OSlngokao"
      }
    },
    {
      "cell_type": "code",
      "source": [
        "select = events8881[['luminosityBlock', 'event']]\n",
        "\n",
        "select.compute()"
      ],
      "metadata": {
        "id": "paJFcovmaWGu"
      },
      "execution_count": null,
      "outputs": []
    },
    {
      "cell_type": "markdown",
      "source": [
        "# Trying to convert dask-awkward array > dask dataframe > call .rename() > dask array > dask-awkward array"
      ],
      "metadata": {
        "id": "lDX720pqpQk_"
      }
    },
    {
      "cell_type": "code",
      "source": [
        "import dask.dataframe as dd\n",
        "import dask_awkward as dak"
      ],
      "metadata": {
        "id": "oe3ZEi2GHWbU"
      },
      "execution_count": null,
      "outputs": []
    },
    {
      "cell_type": "code",
      "source": [
        "df = dak.to_dataframe(events)\n",
        "\n",
        "name_map_new = {'run': 'gintas'}\n",
        "\n",
        "df = df.rename(columns=name_map_new)"
      ],
      "metadata": {
        "id": "jYA_BCrPHhcc"
      },
      "execution_count": null,
      "outputs": []
    },
    {
      "cell_type": "code",
      "source": [
        "df"
      ],
      "metadata": {
        "id": "Jta7VNgIIgDQ"
      },
      "execution_count": null,
      "outputs": []
    },
    {
      "cell_type": "code",
      "source": [
        "dask_array_simple = df.to_dask_array()"
      ],
      "metadata": {
        "id": "Lt9mQOuWHjpq"
      },
      "execution_count": null,
      "outputs": []
    },
    {
      "cell_type": "code",
      "source": [
        "type(dask_array_simple)"
      ],
      "metadata": {
        "id": "r4srQS8VInw9"
      },
      "execution_count": null,
      "outputs": []
    },
    {
      "cell_type": "code",
      "source": [
        "dak_array = dak.from_dask_array(dask_array_simple)"
      ],
      "metadata": {
        "id": "d6mYsaagHoEC"
      },
      "execution_count": null,
      "outputs": []
    }
  ]
}