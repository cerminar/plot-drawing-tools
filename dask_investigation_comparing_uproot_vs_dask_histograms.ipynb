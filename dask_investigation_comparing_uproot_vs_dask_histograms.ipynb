{
 "cells": [
  {
   "cell_type": "markdown",
   "id": "88d93da0",
   "metadata": {},
   "source": [
    "# Dask investigation: comparing uproot vs dask_histograms"
   ]
  },
  {
   "cell_type": "markdown",
   "id": "21ef3ca1",
   "metadata": {},
   "source": [
    "### This is a Jupyter notebook about comparing histograms created via uproot (current ntuple package) and the new implementation (dask)."
   ]
  },
  {
   "cell_type": "markdown",
   "id": "3594ef7f",
   "metadata": {},
   "source": [
    "## 1. Import packages"
   ]
  },
  {
   "cell_type": "code",
   "execution_count": null,
   "id": "1046f482",
   "metadata": {},
   "outputs": [],
   "source": [
    "import ROOT\n",
    "ROOT.enableJSVis()\n",
    "import sys\n",
    "sys.path.insert(0, '..')\n",
    "\n",
    "sys.path.insert(1, '../python/')\n",
    "import l1THistos"
   ]
  },
  {
   "cell_type": "markdown",
   "id": "364e9db5",
   "metadata": {},
   "source": [
    "## 2. Load a histogram file created with uproot"
   ]
  },
  {
   "cell_type": "code",
   "execution_count": null,
   "id": "5f4e86b4",
   "metadata": {},
   "outputs": [],
   "source": [
    "my_file_uproot = ROOT.TFile('/afs/cern.ch/user/g/gsvedas/gintautas_fast/ntuple-analysis/plots/histos_doubleele_flat1to100_PU200_egplots_v160A.102Ei_uproot_test.root')"
   ]
  },
  {
   "cell_type": "code",
   "execution_count": null,
   "id": "05776f90",
   "metadata": {},
   "outputs": [],
   "source": [
    "my_file_uproot.ls()"
   ]
  },
  {
   "cell_type": "code",
   "execution_count": null,
   "id": "0a2a8990",
   "metadata": {},
   "outputs": [],
   "source": [
    "my_file_uproot.GetDirectory('EGHistos')"
   ]
  },
  {
   "cell_type": "code",
   "execution_count": null,
   "id": "b7fc468d",
   "metadata": {},
   "outputs": [],
   "source": [
    "my_file_uproot.ls()"
   ]
  },
  {
   "cell_type": "code",
   "execution_count": null,
   "id": "359b4c41",
   "metadata": {},
   "outputs": [],
   "source": [
    "hist_uproot = my_file_uproot.Get(\"EGHistos/TkEmL2_all_nomatch_pt\")"
   ]
  },
  {
   "cell_type": "code",
   "execution_count": null,
   "id": "4ec3a0c4",
   "metadata": {},
   "outputs": [],
   "source": [
    "hist_uproot.GetEntries()"
   ]
  },
  {
   "cell_type": "code",
   "execution_count": null,
   "id": "f411e519",
   "metadata": {},
   "outputs": [],
   "source": [
    "type(hist_uproot)"
   ]
  },
  {
   "cell_type": "code",
   "execution_count": null,
   "id": "81a8e5b7",
   "metadata": {},
   "outputs": [],
   "source": [
    "dir(my_file_uproot)"
   ]
  },
  {
   "cell_type": "code",
   "execution_count": null,
   "id": "8ee7394f",
   "metadata": {},
   "outputs": [],
   "source": [
    "for h in my_file_uproot.GetListOfKeys():\n",
    "    print(h.GetName())"
   ]
  },
  {
   "cell_type": "code",
   "execution_count": null,
   "id": "5c02da67",
   "metadata": {},
   "outputs": [],
   "source": [
    "lhist_uproot = l1THistos.EGHistos('TkEmL2_all_nomatch', my_file_uproot)\n",
    "lhist_pt2_uproot = l1THistos.EGHistos('TkEmL2_Pt2_nomatch', my_file_uproot)"
   ]
  },
  {
   "cell_type": "code",
   "execution_count": null,
   "id": "b0edd550",
   "metadata": {},
   "outputs": [],
   "source": [
    "can = ROOT.TCanvas()\n",
    "can.cd()\n",
    "lhist_uproot.h_pt.Draw()\n",
    "lhist_pt2_uproot.h_pt.SetLineColor(2)\n",
    "lhist_pt2_uproot.h_pt.Draw('same')\n",
    "\n",
    "can.Draw()"
   ]
  },
  {
   "cell_type": "code",
   "execution_count": null,
   "id": "210dad97",
   "metadata": {},
   "outputs": [],
   "source": [
    "can = ROOT.TCanvas()\n",
    "can.cd()\n",
    "hist_uproot.Draw()\n",
    "can.Draw()"
   ]
  },
  {
   "cell_type": "markdown",
   "id": "796609b5",
   "metadata": {},
   "source": [
    "## 3. Load a histogram file created with dask"
   ]
  },
  {
   "cell_type": "code",
   "execution_count": null,
   "id": "098ff862",
   "metadata": {},
   "outputs": [],
   "source": [
    "my_file_dask = ROOT.TFile('/afs/cern.ch/user/g/gsvedas/gintautas_fast/ntuple-analysis/plots/histos_doubleele_flat1to100_PU200_egplots_v160A.102Ei_dask_single_file.root')"
   ]
  },
  {
   "cell_type": "markdown",
   "id": "34926a44",
   "metadata": {},
   "source": [
    "### 3.1 Load a histogram file created with dask + with the option -n -1"
   ]
  },
  {
   "cell_type": "code",
   "execution_count": null,
   "id": "45628525",
   "metadata": {},
   "outputs": [],
   "source": [
    "my_file_dask = ROOT.TFile('/afs/cern.ch/user/g/gsvedas/gintautas_fast/ntuple-analysis/plots/histos_doubleele_flat1to100_PU200_egplots_v160A.102Ei_n_minus.root')"
   ]
  },
  {
   "cell_type": "code",
   "execution_count": null,
   "id": "6efa38db",
   "metadata": {},
   "outputs": [],
   "source": [
    "my_file_dask.ls()"
   ]
  },
  {
   "cell_type": "code",
   "execution_count": null,
   "id": "b61abf7e",
   "metadata": {},
   "outputs": [],
   "source": [
    "my_file_dask.GetDirectory('EGHistos')"
   ]
  },
  {
   "cell_type": "code",
   "execution_count": null,
   "id": "8d736e91",
   "metadata": {},
   "outputs": [],
   "source": [
    "my_file_dask.ls()"
   ]
  },
  {
   "cell_type": "code",
   "execution_count": null,
   "id": "39002430",
   "metadata": {},
   "outputs": [],
   "source": [
    "hist_dask = my_file_dask.Get(\"EGHistos/TkEmL2_all_nomatch_pt\")"
   ]
  },
  {
   "cell_type": "code",
   "execution_count": null,
   "id": "1df29e96",
   "metadata": {},
   "outputs": [],
   "source": [
    "type(hist_dask_dir)"
   ]
  },
  {
   "cell_type": "code",
   "execution_count": null,
   "id": "e6d57bc8",
   "metadata": {},
   "outputs": [],
   "source": [
    "hist_dask.GetEntries()"
   ]
  },
  {
   "cell_type": "code",
   "execution_count": null,
   "id": "f75a758a",
   "metadata": {},
   "outputs": [],
   "source": [
    "for h in hist_dask.GetListOfKeys():\n",
    "    print(h.GetName())"
   ]
  },
  {
   "cell_type": "code",
   "execution_count": null,
   "id": "247af9bc",
   "metadata": {},
   "outputs": [],
   "source": [
    "dir(hist_dask)"
   ]
  },
  {
   "cell_type": "code",
   "execution_count": null,
   "id": "eace57f8",
   "metadata": {},
   "outputs": [],
   "source": [
    "lhist_dask = l1THistos.EGHistos('TkEmL2_all_nomatch', my_file_dask)\n",
    "lhist_pt2_dask = l1THistos.EGHistos('TkEmL2_Pt2_nomatch', my_file_dask)"
   ]
  },
  {
   "cell_type": "code",
   "execution_count": null,
   "id": "f5251df7",
   "metadata": {},
   "outputs": [],
   "source": [
    "can = ROOT.TCanvas()\n",
    "can.cd()\n",
    "hist_dask.Draw()\n",
    "can.Draw()"
   ]
  },
  {
   "cell_type": "code",
   "execution_count": null,
   "id": "85f7fdbf",
   "metadata": {},
   "outputs": [],
   "source": [
    "can = ROOT.TCanvas()\n",
    "can.cd()\n",
    "lhist_dask.h_pt.Draw()\n",
    "lhist_pt2_dask.h_pt.SetLineColor(2)\n",
    "lhist_pt2_dask.h_pt.Draw('same')\n",
    "\n",
    "can.Draw()"
   ]
  },
  {
   "cell_type": "markdown",
   "id": "b2fb0ccc",
   "metadata": {},
   "source": [
    "## 4. Comparing charts side-by-side"
   ]
  },
  {
   "cell_type": "markdown",
   "id": "5116529d",
   "metadata": {},
   "source": [
    "### uproot"
   ]
  },
  {
   "cell_type": "code",
   "execution_count": null,
   "id": "f9ef94ef",
   "metadata": {},
   "outputs": [],
   "source": [
    "lhist_uproot_other = l1THistos.EGHistos('TkEmL2_Pt5EtaEE_nomatch', my_file_uproot)\n",
    "lhist_pt2_uproot_other = l1THistos.EGHistos('TkEmL2_Pt5EtaEE_nomatch', my_file_uproot)"
   ]
  },
  {
   "cell_type": "markdown",
   "id": "ac08176b",
   "metadata": {},
   "source": [
    "### dask"
   ]
  },
  {
   "cell_type": "code",
   "execution_count": null,
   "id": "771211bf",
   "metadata": {},
   "outputs": [],
   "source": [
    "lhist_dask_other = l1THistos.EGHistos('TkEmL2_Pt5EtaEE_nomatch', my_file_dask)\n",
    "lhist_pt2_dask_other = l1THistos.EGHistos('TkEmL2_Pt5EtaEE_nomatch', my_file_dask)"
   ]
  },
  {
   "cell_type": "markdown",
   "id": "893b5600",
   "metadata": {},
   "source": [
    "### plot histograms"
   ]
  },
  {
   "cell_type": "code",
   "execution_count": null,
   "id": "b4348957",
   "metadata": {},
   "outputs": [],
   "source": [
    "can = ROOT.TCanvas()\n",
    "can.cd()\n",
    "lhist_uproot_other.h_pt.Draw()\n",
    "lhist_pt2_uproot_other.h_pt.SetLineColor(2)\n",
    "lhist_pt2_uproot_other.h_pt.Draw('same')\n",
    "\n",
    "can.Draw()"
   ]
  },
  {
   "cell_type": "code",
   "execution_count": null,
   "id": "1743e995",
   "metadata": {},
   "outputs": [],
   "source": [
    "can = ROOT.TCanvas()\n",
    "can.cd()\n",
    "lhist_dask_other.h_pt.Draw()\n",
    "lhist_pt2_dask_other.h_pt.SetLineColor(2)\n",
    "lhist_pt2_dask_other.h_pt.Draw('same')\n",
    "\n",
    "can.Draw()"
   ]
  }
 ],
 "metadata": {
  "kernelspec": {
   "display_name": "gintautas",
   "language": "python",
   "name": "gintautas"
  },
  "language_info": {
   "codemirror_mode": {
    "name": "ipython",
    "version": 3
   },
   "file_extension": ".py",
   "mimetype": "text/x-python",
   "name": "python",
   "nbconvert_exporter": "python",
   "pygments_lexer": "ipython3",
   "version": "3.9.14"
  },
  "varInspector": {
   "cols": {
    "lenName": 16,
    "lenType": 16,
    "lenVar": 40
   },
   "kernels_config": {
    "python": {
     "delete_cmd_postfix": "",
     "delete_cmd_prefix": "del ",
     "library": "var_list.py",
     "varRefreshCmd": "print(var_dic_list())"
    },
    "r": {
     "delete_cmd_postfix": ") ",
     "delete_cmd_prefix": "rm(",
     "library": "var_list.r",
     "varRefreshCmd": "cat(var_dic_list()) "
    }
   },
   "types_to_exclude": [
    "module",
    "function",
    "builtin_function_or_method",
    "instance",
    "_Feature"
   ],
   "window_display": true
  }
 },
 "nbformat": 4,
 "nbformat_minor": 5
}
