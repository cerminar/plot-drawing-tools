{
 "cells": [
  {
   "cell_type": "markdown",
   "id": "e7b0810e",
   "metadata": {},
   "source": [
    "# 1. Investigating dask histogram pacakge \n",
    "https://examples.dask.org/applications/embarrassingly-parallel.html"
   ]
  },
  {
   "cell_type": "code",
   "execution_count": null,
   "id": "62095058",
   "metadata": {},
   "outputs": [],
   "source": [
    "import dask_histogram as dh\n",
    "import dask_histogram.boost as dhb\n",
    "import dask.array as da\n",
    "import time\n",
    "import dask\n",
    "from dask.distributed import Client, progress\n",
    "print(\"Libraries were imported\")"
   ]
  },
  {
   "cell_type": "markdown",
   "id": "52e68ca3",
   "metadata": {},
   "source": [
    "## 2. Create a distributed client"
   ]
  },
  {
   "cell_type": "code",
   "execution_count": null,
   "id": "7cb470a0",
   "metadata": {},
   "outputs": [],
   "source": [
    "client = Client(threads_per_worker=4, n_workers=10)\n",
    "client"
   ]
  },
  {
   "cell_type": "markdown",
   "id": "652bc1dc",
   "metadata": {},
   "source": [
    "## 3. Create a costly simulation method to simulate a long process for dask to parallelize"
   ]
  },
  {
   "cell_type": "code",
   "execution_count": null,
   "id": "b9025f43",
   "metadata": {},
   "outputs": [],
   "source": [
    "def costly_simulation():\n",
    "    x = da.random.standard_normal(size=(100_000, 2), chunks=(10_000, 2))\n",
    "    t = dhb.Histogram(\n",
    "        dh.axis.Regular(10, -3, 3),\n",
    "        dh.axis.Regular(10, -3, 3),\n",
    "        storage=dh.storage.Double(),\n",
    "    )\n",
    "    t.fill(x)\n",
    "    t.compute()"
   ]
  },
  {
   "cell_type": "code",
   "execution_count": null,
   "id": "b83d5067",
   "metadata": {},
   "outputs": [],
   "source": [
    "start = time.time()\n",
    "costly_simulation()\n",
    "finish = time.time()\n",
    "\n",
    "print(finish - start)"
   ]
  },
  {
   "cell_type": "markdown",
   "id": "8cc54778",
   "metadata": {},
   "source": [
    "## 4. Create a list of 360 delayed calls to compute histograms"
   ]
  },
  {
   "cell_type": "code",
   "execution_count": null,
   "id": "b9d3d5a6",
   "metadata": {},
   "outputs": [],
   "source": [
    "def create_delayed_objects():\n",
    "    results = []\n",
    "    for i in range(0, 360):\n",
    "        result = dask.delayed(costly_simulation)()\n",
    "        results.append(result)\n",
    "    return results"
   ]
  },
  {
   "cell_type": "markdown",
   "id": "c47f8d54",
   "metadata": {},
   "source": [
    "## 5. Call and time the execution of 360 histograms"
   ]
  },
  {
   "cell_type": "code",
   "execution_count": null,
   "id": "4bacc928",
   "metadata": {},
   "outputs": [],
   "source": [
    "start = time.time()\n",
    "dask.compute(*create_delayed_objects())\n",
    "finish = time.time()\n",
    "\n",
    "print(\"The 360 histograms took: \", finish - start)"
   ]
  }
 ],
 "metadata": {
  "kernelspec": {
   "display_name": "gintautas_fast",
   "language": "python",
   "name": "gintautas_fast"
  },
  "language_info": {
   "codemirror_mode": {
    "name": "ipython",
    "version": 3
   },
   "file_extension": ".py",
   "mimetype": "text/x-python",
   "name": "python",
   "nbconvert_exporter": "python",
   "pygments_lexer": "ipython3",
   "version": "3.9.14"
  },
  "varInspector": {
   "cols": {
    "lenName": 16,
    "lenType": 16,
    "lenVar": 40
   },
   "kernels_config": {
    "python": {
     "delete_cmd_postfix": "",
     "delete_cmd_prefix": "del ",
     "library": "var_list.py",
     "varRefreshCmd": "print(var_dic_list())"
    },
    "r": {
     "delete_cmd_postfix": ") ",
     "delete_cmd_prefix": "rm(",
     "library": "var_list.r",
     "varRefreshCmd": "cat(var_dic_list()) "
    }
   },
   "types_to_exclude": [
    "module",
    "function",
    "builtin_function_or_method",
    "instance",
    "_Feature"
   ],
   "window_display": true
  }
 },
 "nbformat": 4,
 "nbformat_minor": 5
}
