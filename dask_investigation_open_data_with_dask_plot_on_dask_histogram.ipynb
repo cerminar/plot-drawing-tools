{
 "cells": [
  {
   "cell_type": "markdown",
   "id": "d4fcf940",
   "metadata": {},
   "source": [
    "# This notebook is about reading data via uproot.dask and plot it on histograms using dask.histogram Python package"
   ]
  },
  {
   "cell_type": "markdown",
   "id": "718d150a",
   "metadata": {},
   "source": [
    "## 1. Importing all the necessary packages"
   ]
  },
  {
   "cell_type": "code",
   "execution_count": null,
   "id": "e48d0ecc",
   "metadata": {},
   "outputs": [],
   "source": [
    "import sys\n",
    "sys.path.insert(0, '..')\n",
    "\n",
    "import uproot4\n",
    "import python.file_manager as fm\n",
    "import ROOT\n",
    "import numpy as np\n",
    "import fsspec\n",
    "import distributed\n",
    "import awkward as ak\n",
    "import dask_awkward as dak\n",
    "import hist\n",
    "import dask_histogram as dh\n",
    "import boost_histogram as bh"
   ]
  },
  {
   "cell_type": "markdown",
   "id": "cc91be1c",
   "metadata": {},
   "source": [
    "## 2. Opening .root file using Dask"
   ]
  },
  {
   "cell_type": "code",
   "execution_count": null,
   "id": "b66cfade",
   "metadata": {},
   "outputs": [],
   "source": [
    "dar = uproot4.dask({'root://eoscms.cern.ch//eos/cms/store/cmst3/group/l1tr/cerminar/l1teg/fp_ntuples/DoubleElectron_FlatPt-1To100_PU200/FP/v100D/perfNano_8830991_0.root': 'Events'})"
   ]
  },
  {
   "cell_type": "code",
   "execution_count": null,
   "id": "f6e5f8e4",
   "metadata": {},
   "outputs": [],
   "source": [
    "print(dar)"
   ]
  },
  {
   "cell_type": "markdown",
   "id": "2ef4e519",
   "metadata": {},
   "source": [
    "## 3. Opening a distributed client for dask"
   ]
  },
  {
   "cell_type": "code",
   "execution_count": null,
   "id": "aac2dccc",
   "metadata": {},
   "outputs": [],
   "source": [
    "client = distributed.Client()\n",
    "client"
   ]
  },
  {
   "cell_type": "markdown",
   "id": "6869780a",
   "metadata": {},
   "source": [
    "## 4. Selecting a column to show on a histogram"
   ]
  },
  {
   "cell_type": "code",
   "execution_count": null,
   "id": "57821c83",
   "metadata": {},
   "outputs": [],
   "source": [
    "not_computed = dar['nTkEleL2']"
   ]
  },
  {
   "cell_type": "markdown",
   "id": "cf65448e",
   "metadata": {},
   "source": [
    "## 5. Seting up the histogram"
   ]
  },
  {
   "cell_type": "code",
   "execution_count": null,
   "id": "4596c834",
   "metadata": {},
   "outputs": [],
   "source": [
    "h = dh.histogram(\n",
    "    not_computed,\n",
    "    bins=120,\n",
    "    range=(0, 120),\n",
    "    histogram=bh.Histogram,\n",
    ")"
   ]
  },
  {
   "cell_type": "markdown",
   "id": "0e7633f5",
   "metadata": {},
   "source": [
    "## 6. Computing the dask-awkward array"
   ]
  },
  {
   "cell_type": "code",
   "execution_count": null,
   "id": "44894f9e",
   "metadata": {},
   "outputs": [],
   "source": [
    "h = hist.Hist(h.compute())\n",
    "h.plot1d()"
   ]
  }
 ],
 "metadata": {
  "kernelspec": {
   "display_name": "gintautas_fast",
   "language": "python",
   "name": "gintautas_fast"
  },
  "language_info": {
   "codemirror_mode": {
    "name": "ipython",
    "version": 3
   },
   "file_extension": ".py",
   "mimetype": "text/x-python",
   "name": "python",
   "nbconvert_exporter": "python",
   "pygments_lexer": "ipython3",
   "version": "3.9.14"
  },
  "varInspector": {
   "cols": {
    "lenName": 16,
    "lenType": 16,
    "lenVar": 40
   },
   "kernels_config": {
    "python": {
     "delete_cmd_postfix": "",
     "delete_cmd_prefix": "del ",
     "library": "var_list.py",
     "varRefreshCmd": "print(var_dic_list())"
    },
    "r": {
     "delete_cmd_postfix": ") ",
     "delete_cmd_prefix": "rm(",
     "library": "var_list.r",
     "varRefreshCmd": "cat(var_dic_list()) "
    }
   },
   "types_to_exclude": [
    "module",
    "function",
    "builtin_function_or_method",
    "instance",
    "_Feature"
   ],
   "window_display": false
  }
 },
 "nbformat": 4,
 "nbformat_minor": 5
}
