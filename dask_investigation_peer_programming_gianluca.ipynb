{
 "cells": [
  {
   "cell_type": "code",
   "execution_count": null,
   "id": "1046f482",
   "metadata": {},
   "outputs": [],
   "source": [
    "import ROOT\n",
    "ROOT.enableJSVis()"
   ]
  },
  {
   "cell_type": "code",
   "execution_count": null,
   "id": "b920a49b",
   "metadata": {},
   "outputs": [],
   "source": [
    "import sys\n",
    "sys.path.insert(0, '..')\n",
    "\n",
    "sys.path.insert(1, '../python/')"
   ]
  },
  {
   "cell_type": "code",
   "execution_count": null,
   "id": "e18e01fe",
   "metadata": {},
   "outputs": [],
   "source": [
    "import l1THistos"
   ]
  },
  {
   "cell_type": "code",
   "execution_count": null,
   "id": "5f4e86b4",
   "metadata": {},
   "outputs": [],
   "source": [
    "my_file = ROOT.TFile('/afs/cern.ch/user/g/gsvedas/gintautas/ntuple-analysis/plots/histos_doubleele_flat1to100_PU200_egplots_v160A.102Ei.root')"
   ]
  },
  {
   "cell_type": "code",
   "execution_count": null,
   "id": "05776f90",
   "metadata": {},
   "outputs": [],
   "source": [
    "my_file.ls()"
   ]
  },
  {
   "cell_type": "code",
   "execution_count": null,
   "id": "0a2a8990",
   "metadata": {},
   "outputs": [],
   "source": [
    "my_file.GetDirectory('TestHistos')"
   ]
  },
  {
   "cell_type": "code",
   "execution_count": null,
   "id": "b7fc468d",
   "metadata": {},
   "outputs": [],
   "source": [
    "my_file.ls()"
   ]
  },
  {
   "cell_type": "code",
   "execution_count": null,
   "id": "359b4c41",
   "metadata": {},
   "outputs": [],
   "source": [
    "hist = my_file.Get(\"TestHistos/TkEmL2_all_nomatch_pt\")"
   ]
  },
  {
   "cell_type": "code",
   "execution_count": null,
   "id": "4ec3a0c4",
   "metadata": {},
   "outputs": [],
   "source": [
    "hist.GetEntries()"
   ]
  },
  {
   "cell_type": "code",
   "execution_count": null,
   "id": "8ee7394f",
   "metadata": {},
   "outputs": [],
   "source": [
    "for h in my_file.GetListOfKeys():\n",
    "    print(h.GetName())"
   ]
  },
  {
   "cell_type": "code",
   "execution_count": null,
   "id": "5c02da67",
   "metadata": {},
   "outputs": [],
   "source": [
    "lhist = l1THistos.TestHistos('TkEmL2_all_nomatch', my_file)\n",
    "lhist_pt2 = l1THistos.TestHistos('TkEmL2_Pt2_nomatch', my_file)"
   ]
  },
  {
   "cell_type": "code",
   "execution_count": null,
   "id": "b0edd550",
   "metadata": {},
   "outputs": [],
   "source": [
    "can = ROOT.TCanvas()\n",
    "can.cd()\n",
    "lhist.h_pt.Draw()\n",
    "lhist_pt2.h_pt.SetLineColor(2)\n",
    "lhist_pt2.h_pt.Draw('same')\n",
    "\n",
    "can.Draw()"
   ]
  },
  {
   "cell_type": "code",
   "execution_count": null,
   "id": "210dad97",
   "metadata": {},
   "outputs": [],
   "source": [
    "can = ROOT.TCanvas()\n",
    "can.cd()\n",
    "hist.Draw()\n",
    "can.Draw()"
   ]
  }
 ],
 "metadata": {
  "kernelspec": {
   "display_name": "gintautas",
   "language": "python",
   "name": "gintautas"
  },
  "language_info": {
   "codemirror_mode": {
    "name": "ipython",
    "version": 3
   },
   "file_extension": ".py",
   "mimetype": "text/x-python",
   "name": "python",
   "nbconvert_exporter": "python",
   "pygments_lexer": "ipython3",
   "version": "3.9.14"
  },
  "varInspector": {
   "cols": {
    "lenName": 16,
    "lenType": 16,
    "lenVar": 40
   },
   "kernels_config": {
    "python": {
     "delete_cmd_postfix": "",
     "delete_cmd_prefix": "del ",
     "library": "var_list.py",
     "varRefreshCmd": "print(var_dic_list())"
    },
    "r": {
     "delete_cmd_postfix": ") ",
     "delete_cmd_prefix": "rm(",
     "library": "var_list.r",
     "varRefreshCmd": "cat(var_dic_list()) "
    }
   },
   "types_to_exclude": [
    "module",
    "function",
    "builtin_function_or_method",
    "instance",
    "_Feature"
   ],
   "window_display": true
  }
 },
 "nbformat": 4,
 "nbformat_minor": 5
}
