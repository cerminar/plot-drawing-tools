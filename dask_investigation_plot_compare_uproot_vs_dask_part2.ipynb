{
 "cells": [
  {
   "cell_type": "markdown",
   "id": "d4fcf940",
   "metadata": {},
   "source": [
    "# This is an example of opening multiple .root file using uproot4, dask and displaying data into a single aggregated histogram"
   ]
  },
  {
   "cell_type": "markdown",
   "id": "718d150a",
   "metadata": {},
   "source": [
    "## 1. Importing all the necessary packages"
   ]
  },
  {
   "cell_type": "code",
   "execution_count": 7,
   "id": "e48d0ecc",
   "metadata": {},
   "outputs": [
    {
     "name": "stdout",
     "output_type": "stream",
     "text": [
      "Loaded\n"
     ]
    }
   ],
   "source": [
    "import sys\n",
    "sys.path.insert(0, '..')\n",
    "import uproot4\n",
    "import python.file_manager as fm\n",
    "import ROOT\n",
    "import numpy as np\n",
    "import fsspec\n",
    "import distributed\n",
    "import awkward as ak\n",
    "import dask_awkward as dak\n",
    "import hist\n",
    "import dask_histogram as dh\n",
    "import boost_histogram as bh\n",
    "import uproot\n",
    "import matplotlib.pyplot as plt\n",
    "import dask.array as da\n",
    "import dask\n",
    "import hist.dask as dah\n",
    "import time\n",
    "print(\"Loaded\")"
   ]
  },
  {
   "cell_type": "markdown",
   "id": "902739dd",
   "metadata": {},
   "source": [
    "## 2. Opening a distributed client for Dask"
   ]
  },
  {
   "cell_type": "code",
   "execution_count": 3,
   "id": "008f3f69",
   "metadata": {},
   "outputs": [
    {
     "name": "stderr",
     "output_type": "stream",
     "text": [
      "/data/gsvedas/.virtualenvs/gintautas_fast/lib/python3.9/site-packages/distributed/node.py:182: UserWarning: Port 8787 is already in use.\n",
      "Perhaps you already have a cluster running?\n",
      "Hosting the HTTP server on port 44515 instead\n",
      "  warnings.warn(\n"
     ]
    },
    {
     "data": {
      "text/html": [
       "<div>\n",
       "    <div style=\"width: 24px; height: 24px; background-color: #e1e1e1; border: 3px solid #9D9D9D; border-radius: 5px; position: absolute;\"> </div>\n",
       "    <div style=\"margin-left: 48px;\">\n",
       "        <h3 style=\"margin-bottom: 0px;\">Client</h3>\n",
       "        <p style=\"color: #9D9D9D; margin-bottom: 0px;\">Client-dd908f8d-fe50-11ee-941e-001e67d5da34</p>\n",
       "        <table style=\"width: 100%; text-align: left;\">\n",
       "\n",
       "        <tr>\n",
       "        \n",
       "            <td style=\"text-align: left;\"><strong>Connection method:</strong> Cluster object</td>\n",
       "            <td style=\"text-align: left;\"><strong>Cluster type:</strong> distributed.LocalCluster</td>\n",
       "        \n",
       "        </tr>\n",
       "\n",
       "        \n",
       "            <tr>\n",
       "                <td style=\"text-align: left;\">\n",
       "                    <strong>Dashboard: </strong> <a href=\"http://127.0.0.1:44515/status\" target=\"_blank\">http://127.0.0.1:44515/status</a>\n",
       "                </td>\n",
       "                <td style=\"text-align: left;\"></td>\n",
       "            </tr>\n",
       "        \n",
       "\n",
       "        </table>\n",
       "\n",
       "        \n",
       "\n",
       "        \n",
       "            <details>\n",
       "            <summary style=\"margin-bottom: 20px;\"><h3 style=\"display: inline;\">Cluster Info</h3></summary>\n",
       "            <div class=\"jp-RenderedHTMLCommon jp-RenderedHTML jp-mod-trusted jp-OutputArea-output\">\n",
       "    <div style=\"width: 24px; height: 24px; background-color: #e1e1e1; border: 3px solid #9D9D9D; border-radius: 5px; position: absolute;\">\n",
       "    </div>\n",
       "    <div style=\"margin-left: 48px;\">\n",
       "        <h3 style=\"margin-bottom: 0px; margin-top: 0px;\">LocalCluster</h3>\n",
       "        <p style=\"color: #9D9D9D; margin-bottom: 0px;\">4c0adafd</p>\n",
       "        <table style=\"width: 100%; text-align: left;\">\n",
       "            <tr>\n",
       "                <td style=\"text-align: left;\">\n",
       "                    <strong>Dashboard:</strong> <a href=\"http://127.0.0.1:44515/status\" target=\"_blank\">http://127.0.0.1:44515/status</a>\n",
       "                </td>\n",
       "                <td style=\"text-align: left;\">\n",
       "                    <strong>Workers:</strong> 8\n",
       "                </td>\n",
       "            </tr>\n",
       "            <tr>\n",
       "                <td style=\"text-align: left;\">\n",
       "                    <strong>Total threads:</strong> 48\n",
       "                </td>\n",
       "                <td style=\"text-align: left;\">\n",
       "                    <strong>Total memory:</strong> 62.29 GiB\n",
       "                </td>\n",
       "            </tr>\n",
       "            \n",
       "            <tr>\n",
       "    <td style=\"text-align: left;\"><strong>Status:</strong> running</td>\n",
       "    <td style=\"text-align: left;\"><strong>Using processes:</strong> True</td>\n",
       "</tr>\n",
       "\n",
       "            \n",
       "        </table>\n",
       "\n",
       "        <details>\n",
       "            <summary style=\"margin-bottom: 20px;\">\n",
       "                <h3 style=\"display: inline;\">Scheduler Info</h3>\n",
       "            </summary>\n",
       "\n",
       "            <div style=\"\">\n",
       "    <div>\n",
       "        <div style=\"width: 24px; height: 24px; background-color: #FFF7E5; border: 3px solid #FF6132; border-radius: 5px; position: absolute;\"> </div>\n",
       "        <div style=\"margin-left: 48px;\">\n",
       "            <h3 style=\"margin-bottom: 0px;\">Scheduler</h3>\n",
       "            <p style=\"color: #9D9D9D; margin-bottom: 0px;\">Scheduler-bf78d85c-ef30-4474-8682-ac81ca6720c6</p>\n",
       "            <table style=\"width: 100%; text-align: left;\">\n",
       "                <tr>\n",
       "                    <td style=\"text-align: left;\">\n",
       "                        <strong>Comm:</strong> tcp://127.0.0.1:38483\n",
       "                    </td>\n",
       "                    <td style=\"text-align: left;\">\n",
       "                        <strong>Workers:</strong> 8\n",
       "                    </td>\n",
       "                </tr>\n",
       "                <tr>\n",
       "                    <td style=\"text-align: left;\">\n",
       "                        <strong>Dashboard:</strong> <a href=\"http://127.0.0.1:44515/status\" target=\"_blank\">http://127.0.0.1:44515/status</a>\n",
       "                    </td>\n",
       "                    <td style=\"text-align: left;\">\n",
       "                        <strong>Total threads:</strong> 48\n",
       "                    </td>\n",
       "                </tr>\n",
       "                <tr>\n",
       "                    <td style=\"text-align: left;\">\n",
       "                        <strong>Started:</strong> Just now\n",
       "                    </td>\n",
       "                    <td style=\"text-align: left;\">\n",
       "                        <strong>Total memory:</strong> 62.29 GiB\n",
       "                    </td>\n",
       "                </tr>\n",
       "            </table>\n",
       "        </div>\n",
       "    </div>\n",
       "\n",
       "    <details style=\"margin-left: 48px;\">\n",
       "        <summary style=\"margin-bottom: 20px;\">\n",
       "            <h3 style=\"display: inline;\">Workers</h3>\n",
       "        </summary>\n",
       "\n",
       "        \n",
       "        <div style=\"margin-bottom: 20px;\">\n",
       "            <div style=\"width: 24px; height: 24px; background-color: #DBF5FF; border: 3px solid #4CC9FF; border-radius: 5px; position: absolute;\"> </div>\n",
       "            <div style=\"margin-left: 48px;\">\n",
       "            <details>\n",
       "                <summary>\n",
       "                    <h4 style=\"margin-bottom: 0px; display: inline;\">Worker: 0</h4>\n",
       "                </summary>\n",
       "                <table style=\"width: 100%; text-align: left;\">\n",
       "                    <tr>\n",
       "                        <td style=\"text-align: left;\">\n",
       "                            <strong>Comm: </strong> tcp://127.0.0.1:35875\n",
       "                        </td>\n",
       "                        <td style=\"text-align: left;\">\n",
       "                            <strong>Total threads: </strong> 6\n",
       "                        </td>\n",
       "                    </tr>\n",
       "                    <tr>\n",
       "                        <td style=\"text-align: left;\">\n",
       "                            <strong>Dashboard: </strong> <a href=\"http://127.0.0.1:39661/status\" target=\"_blank\">http://127.0.0.1:39661/status</a>\n",
       "                        </td>\n",
       "                        <td style=\"text-align: left;\">\n",
       "                            <strong>Memory: </strong> 7.79 GiB\n",
       "                        </td>\n",
       "                    </tr>\n",
       "                    <tr>\n",
       "                        <td style=\"text-align: left;\">\n",
       "                            <strong>Nanny: </strong> tcp://127.0.0.1:39073\n",
       "                        </td>\n",
       "                        <td style=\"text-align: left;\"></td>\n",
       "                    </tr>\n",
       "                    <tr>\n",
       "                        <td colspan=\"2\" style=\"text-align: left;\">\n",
       "                            <strong>Local directory: </strong> /tmp/dask-scratch-space/worker-6rhnnvhw\n",
       "                        </td>\n",
       "                    </tr>\n",
       "\n",
       "                    \n",
       "\n",
       "                    \n",
       "\n",
       "                </table>\n",
       "            </details>\n",
       "            </div>\n",
       "        </div>\n",
       "        \n",
       "        <div style=\"margin-bottom: 20px;\">\n",
       "            <div style=\"width: 24px; height: 24px; background-color: #DBF5FF; border: 3px solid #4CC9FF; border-radius: 5px; position: absolute;\"> </div>\n",
       "            <div style=\"margin-left: 48px;\">\n",
       "            <details>\n",
       "                <summary>\n",
       "                    <h4 style=\"margin-bottom: 0px; display: inline;\">Worker: 1</h4>\n",
       "                </summary>\n",
       "                <table style=\"width: 100%; text-align: left;\">\n",
       "                    <tr>\n",
       "                        <td style=\"text-align: left;\">\n",
       "                            <strong>Comm: </strong> tcp://127.0.0.1:41333\n",
       "                        </td>\n",
       "                        <td style=\"text-align: left;\">\n",
       "                            <strong>Total threads: </strong> 6\n",
       "                        </td>\n",
       "                    </tr>\n",
       "                    <tr>\n",
       "                        <td style=\"text-align: left;\">\n",
       "                            <strong>Dashboard: </strong> <a href=\"http://127.0.0.1:37301/status\" target=\"_blank\">http://127.0.0.1:37301/status</a>\n",
       "                        </td>\n",
       "                        <td style=\"text-align: left;\">\n",
       "                            <strong>Memory: </strong> 7.79 GiB\n",
       "                        </td>\n",
       "                    </tr>\n",
       "                    <tr>\n",
       "                        <td style=\"text-align: left;\">\n",
       "                            <strong>Nanny: </strong> tcp://127.0.0.1:35319\n",
       "                        </td>\n",
       "                        <td style=\"text-align: left;\"></td>\n",
       "                    </tr>\n",
       "                    <tr>\n",
       "                        <td colspan=\"2\" style=\"text-align: left;\">\n",
       "                            <strong>Local directory: </strong> /tmp/dask-scratch-space/worker-5pd2lw8w\n",
       "                        </td>\n",
       "                    </tr>\n",
       "\n",
       "                    \n",
       "\n",
       "                    \n",
       "\n",
       "                </table>\n",
       "            </details>\n",
       "            </div>\n",
       "        </div>\n",
       "        \n",
       "        <div style=\"margin-bottom: 20px;\">\n",
       "            <div style=\"width: 24px; height: 24px; background-color: #DBF5FF; border: 3px solid #4CC9FF; border-radius: 5px; position: absolute;\"> </div>\n",
       "            <div style=\"margin-left: 48px;\">\n",
       "            <details>\n",
       "                <summary>\n",
       "                    <h4 style=\"margin-bottom: 0px; display: inline;\">Worker: 2</h4>\n",
       "                </summary>\n",
       "                <table style=\"width: 100%; text-align: left;\">\n",
       "                    <tr>\n",
       "                        <td style=\"text-align: left;\">\n",
       "                            <strong>Comm: </strong> tcp://127.0.0.1:45259\n",
       "                        </td>\n",
       "                        <td style=\"text-align: left;\">\n",
       "                            <strong>Total threads: </strong> 6\n",
       "                        </td>\n",
       "                    </tr>\n",
       "                    <tr>\n",
       "                        <td style=\"text-align: left;\">\n",
       "                            <strong>Dashboard: </strong> <a href=\"http://127.0.0.1:46507/status\" target=\"_blank\">http://127.0.0.1:46507/status</a>\n",
       "                        </td>\n",
       "                        <td style=\"text-align: left;\">\n",
       "                            <strong>Memory: </strong> 7.79 GiB\n",
       "                        </td>\n",
       "                    </tr>\n",
       "                    <tr>\n",
       "                        <td style=\"text-align: left;\">\n",
       "                            <strong>Nanny: </strong> tcp://127.0.0.1:36411\n",
       "                        </td>\n",
       "                        <td style=\"text-align: left;\"></td>\n",
       "                    </tr>\n",
       "                    <tr>\n",
       "                        <td colspan=\"2\" style=\"text-align: left;\">\n",
       "                            <strong>Local directory: </strong> /tmp/dask-scratch-space/worker-hziom0z3\n",
       "                        </td>\n",
       "                    </tr>\n",
       "\n",
       "                    \n",
       "\n",
       "                    \n",
       "\n",
       "                </table>\n",
       "            </details>\n",
       "            </div>\n",
       "        </div>\n",
       "        \n",
       "        <div style=\"margin-bottom: 20px;\">\n",
       "            <div style=\"width: 24px; height: 24px; background-color: #DBF5FF; border: 3px solid #4CC9FF; border-radius: 5px; position: absolute;\"> </div>\n",
       "            <div style=\"margin-left: 48px;\">\n",
       "            <details>\n",
       "                <summary>\n",
       "                    <h4 style=\"margin-bottom: 0px; display: inline;\">Worker: 3</h4>\n",
       "                </summary>\n",
       "                <table style=\"width: 100%; text-align: left;\">\n",
       "                    <tr>\n",
       "                        <td style=\"text-align: left;\">\n",
       "                            <strong>Comm: </strong> tcp://127.0.0.1:42751\n",
       "                        </td>\n",
       "                        <td style=\"text-align: left;\">\n",
       "                            <strong>Total threads: </strong> 6\n",
       "                        </td>\n",
       "                    </tr>\n",
       "                    <tr>\n",
       "                        <td style=\"text-align: left;\">\n",
       "                            <strong>Dashboard: </strong> <a href=\"http://127.0.0.1:46675/status\" target=\"_blank\">http://127.0.0.1:46675/status</a>\n",
       "                        </td>\n",
       "                        <td style=\"text-align: left;\">\n",
       "                            <strong>Memory: </strong> 7.79 GiB\n",
       "                        </td>\n",
       "                    </tr>\n",
       "                    <tr>\n",
       "                        <td style=\"text-align: left;\">\n",
       "                            <strong>Nanny: </strong> tcp://127.0.0.1:43737\n",
       "                        </td>\n",
       "                        <td style=\"text-align: left;\"></td>\n",
       "                    </tr>\n",
       "                    <tr>\n",
       "                        <td colspan=\"2\" style=\"text-align: left;\">\n",
       "                            <strong>Local directory: </strong> /tmp/dask-scratch-space/worker-9gai0qxu\n",
       "                        </td>\n",
       "                    </tr>\n",
       "\n",
       "                    \n",
       "\n",
       "                    \n",
       "\n",
       "                </table>\n",
       "            </details>\n",
       "            </div>\n",
       "        </div>\n",
       "        \n",
       "        <div style=\"margin-bottom: 20px;\">\n",
       "            <div style=\"width: 24px; height: 24px; background-color: #DBF5FF; border: 3px solid #4CC9FF; border-radius: 5px; position: absolute;\"> </div>\n",
       "            <div style=\"margin-left: 48px;\">\n",
       "            <details>\n",
       "                <summary>\n",
       "                    <h4 style=\"margin-bottom: 0px; display: inline;\">Worker: 4</h4>\n",
       "                </summary>\n",
       "                <table style=\"width: 100%; text-align: left;\">\n",
       "                    <tr>\n",
       "                        <td style=\"text-align: left;\">\n",
       "                            <strong>Comm: </strong> tcp://127.0.0.1:35069\n",
       "                        </td>\n",
       "                        <td style=\"text-align: left;\">\n",
       "                            <strong>Total threads: </strong> 6\n",
       "                        </td>\n",
       "                    </tr>\n",
       "                    <tr>\n",
       "                        <td style=\"text-align: left;\">\n",
       "                            <strong>Dashboard: </strong> <a href=\"http://127.0.0.1:45595/status\" target=\"_blank\">http://127.0.0.1:45595/status</a>\n",
       "                        </td>\n",
       "                        <td style=\"text-align: left;\">\n",
       "                            <strong>Memory: </strong> 7.79 GiB\n",
       "                        </td>\n",
       "                    </tr>\n",
       "                    <tr>\n",
       "                        <td style=\"text-align: left;\">\n",
       "                            <strong>Nanny: </strong> tcp://127.0.0.1:34137\n",
       "                        </td>\n",
       "                        <td style=\"text-align: left;\"></td>\n",
       "                    </tr>\n",
       "                    <tr>\n",
       "                        <td colspan=\"2\" style=\"text-align: left;\">\n",
       "                            <strong>Local directory: </strong> /tmp/dask-scratch-space/worker-0klhiz33\n",
       "                        </td>\n",
       "                    </tr>\n",
       "\n",
       "                    \n",
       "\n",
       "                    \n",
       "\n",
       "                </table>\n",
       "            </details>\n",
       "            </div>\n",
       "        </div>\n",
       "        \n",
       "        <div style=\"margin-bottom: 20px;\">\n",
       "            <div style=\"width: 24px; height: 24px; background-color: #DBF5FF; border: 3px solid #4CC9FF; border-radius: 5px; position: absolute;\"> </div>\n",
       "            <div style=\"margin-left: 48px;\">\n",
       "            <details>\n",
       "                <summary>\n",
       "                    <h4 style=\"margin-bottom: 0px; display: inline;\">Worker: 5</h4>\n",
       "                </summary>\n",
       "                <table style=\"width: 100%; text-align: left;\">\n",
       "                    <tr>\n",
       "                        <td style=\"text-align: left;\">\n",
       "                            <strong>Comm: </strong> tcp://127.0.0.1:37263\n",
       "                        </td>\n",
       "                        <td style=\"text-align: left;\">\n",
       "                            <strong>Total threads: </strong> 6\n",
       "                        </td>\n",
       "                    </tr>\n",
       "                    <tr>\n",
       "                        <td style=\"text-align: left;\">\n",
       "                            <strong>Dashboard: </strong> <a href=\"http://127.0.0.1:43939/status\" target=\"_blank\">http://127.0.0.1:43939/status</a>\n",
       "                        </td>\n",
       "                        <td style=\"text-align: left;\">\n",
       "                            <strong>Memory: </strong> 7.79 GiB\n",
       "                        </td>\n",
       "                    </tr>\n",
       "                    <tr>\n",
       "                        <td style=\"text-align: left;\">\n",
       "                            <strong>Nanny: </strong> tcp://127.0.0.1:42737\n",
       "                        </td>\n",
       "                        <td style=\"text-align: left;\"></td>\n",
       "                    </tr>\n",
       "                    <tr>\n",
       "                        <td colspan=\"2\" style=\"text-align: left;\">\n",
       "                            <strong>Local directory: </strong> /tmp/dask-scratch-space/worker-nbbck50e\n",
       "                        </td>\n",
       "                    </tr>\n",
       "\n",
       "                    \n",
       "\n",
       "                    \n",
       "\n",
       "                </table>\n",
       "            </details>\n",
       "            </div>\n",
       "        </div>\n",
       "        \n",
       "        <div style=\"margin-bottom: 20px;\">\n",
       "            <div style=\"width: 24px; height: 24px; background-color: #DBF5FF; border: 3px solid #4CC9FF; border-radius: 5px; position: absolute;\"> </div>\n",
       "            <div style=\"margin-left: 48px;\">\n",
       "            <details>\n",
       "                <summary>\n",
       "                    <h4 style=\"margin-bottom: 0px; display: inline;\">Worker: 6</h4>\n",
       "                </summary>\n",
       "                <table style=\"width: 100%; text-align: left;\">\n",
       "                    <tr>\n",
       "                        <td style=\"text-align: left;\">\n",
       "                            <strong>Comm: </strong> tcp://127.0.0.1:32911\n",
       "                        </td>\n",
       "                        <td style=\"text-align: left;\">\n",
       "                            <strong>Total threads: </strong> 6\n",
       "                        </td>\n",
       "                    </tr>\n",
       "                    <tr>\n",
       "                        <td style=\"text-align: left;\">\n",
       "                            <strong>Dashboard: </strong> <a href=\"http://127.0.0.1:35035/status\" target=\"_blank\">http://127.0.0.1:35035/status</a>\n",
       "                        </td>\n",
       "                        <td style=\"text-align: left;\">\n",
       "                            <strong>Memory: </strong> 7.79 GiB\n",
       "                        </td>\n",
       "                    </tr>\n",
       "                    <tr>\n",
       "                        <td style=\"text-align: left;\">\n",
       "                            <strong>Nanny: </strong> tcp://127.0.0.1:40615\n",
       "                        </td>\n",
       "                        <td style=\"text-align: left;\"></td>\n",
       "                    </tr>\n",
       "                    <tr>\n",
       "                        <td colspan=\"2\" style=\"text-align: left;\">\n",
       "                            <strong>Local directory: </strong> /tmp/dask-scratch-space/worker-5ph06wn2\n",
       "                        </td>\n",
       "                    </tr>\n",
       "\n",
       "                    \n",
       "\n",
       "                    \n",
       "\n",
       "                </table>\n",
       "            </details>\n",
       "            </div>\n",
       "        </div>\n",
       "        \n",
       "        <div style=\"margin-bottom: 20px;\">\n",
       "            <div style=\"width: 24px; height: 24px; background-color: #DBF5FF; border: 3px solid #4CC9FF; border-radius: 5px; position: absolute;\"> </div>\n",
       "            <div style=\"margin-left: 48px;\">\n",
       "            <details>\n",
       "                <summary>\n",
       "                    <h4 style=\"margin-bottom: 0px; display: inline;\">Worker: 7</h4>\n",
       "                </summary>\n",
       "                <table style=\"width: 100%; text-align: left;\">\n",
       "                    <tr>\n",
       "                        <td style=\"text-align: left;\">\n",
       "                            <strong>Comm: </strong> tcp://127.0.0.1:40493\n",
       "                        </td>\n",
       "                        <td style=\"text-align: left;\">\n",
       "                            <strong>Total threads: </strong> 6\n",
       "                        </td>\n",
       "                    </tr>\n",
       "                    <tr>\n",
       "                        <td style=\"text-align: left;\">\n",
       "                            <strong>Dashboard: </strong> <a href=\"http://127.0.0.1:46083/status\" target=\"_blank\">http://127.0.0.1:46083/status</a>\n",
       "                        </td>\n",
       "                        <td style=\"text-align: left;\">\n",
       "                            <strong>Memory: </strong> 7.79 GiB\n",
       "                        </td>\n",
       "                    </tr>\n",
       "                    <tr>\n",
       "                        <td style=\"text-align: left;\">\n",
       "                            <strong>Nanny: </strong> tcp://127.0.0.1:42927\n",
       "                        </td>\n",
       "                        <td style=\"text-align: left;\"></td>\n",
       "                    </tr>\n",
       "                    <tr>\n",
       "                        <td colspan=\"2\" style=\"text-align: left;\">\n",
       "                            <strong>Local directory: </strong> /tmp/dask-scratch-space/worker-w3kwgky7\n",
       "                        </td>\n",
       "                    </tr>\n",
       "\n",
       "                    \n",
       "\n",
       "                    \n",
       "\n",
       "                </table>\n",
       "            </details>\n",
       "            </div>\n",
       "        </div>\n",
       "        \n",
       "\n",
       "    </details>\n",
       "</div>\n",
       "\n",
       "        </details>\n",
       "    </div>\n",
       "</div>\n",
       "            </details>\n",
       "        \n",
       "\n",
       "    </div>\n",
       "</div>"
      ],
      "text/plain": [
       "<Client: 'tcp://127.0.0.1:38483' processes=8 threads=48, memory=62.29 GiB>"
      ]
     },
     "execution_count": 3,
     "metadata": {},
     "output_type": "execute_result"
    }
   ],
   "source": [
    "client = distributed.Client()\n",
    "client"
   ]
  },
  {
   "cell_type": "markdown",
   "id": "7de7dd3e",
   "metadata": {},
   "source": [
    "# 3. Opening .root files using Dask and Uproot"
   ]
  },
  {
   "cell_type": "markdown",
   "id": "1719c325",
   "metadata": {},
   "source": [
    "### 3.1 Opening multiple .ROOT files using Dask"
   ]
  },
  {
   "cell_type": "code",
   "execution_count": null,
   "id": "b66cfade",
   "metadata": {},
   "outputs": [],
   "source": [
    "dask_multiple_files = uproot4.dask({'root://eoscms.cern.ch//eos/cms/store/cmst3/group/l1tr/cerminar/l1teg/fp_ntuples/DoubleElectron_FlatPt-1To100_PU200/FP/v100D/perfNano_8830991_0.root': 'Events',\n",
    "                   'root://eoscms.cern.ch//eos/cms/store/cmst3/group/l1tr/cerminar/l1teg/fp_ntuples/DoubleElectron_FlatPt-1To100_PU200/FP/v100D/perfNano_8830991_1.root': 'Events'\n",
    "                   })"
   ]
  },
  {
   "cell_type": "markdown",
   "id": "15939fb2",
   "metadata": {},
   "source": [
    "### 3.2 Opening single .ROOT file using DASK"
   ]
  },
  {
   "cell_type": "code",
   "execution_count": null,
   "id": "59aedc5e",
   "metadata": {},
   "outputs": [],
   "source": [
    "dask_single_file = uproot4.dask({'root://eoscms.cern.ch//eos/cms/store/cmst3/group/l1tr/cerminar/l1teg/fp_ntuples/DoubleElectron_FlatPt-1To100_PU200/FP/v100D/perfNano_8830991_0.root': 'Events'})"
   ]
  },
  {
   "cell_type": "code",
   "execution_count": null,
   "id": "566a2b50",
   "metadata": {},
   "outputs": [],
   "source": [
    "dask_single_third = up.dask({'root://eoscms.cern.ch//eos/cms/store/cmst3/group/l1tr/cerminar/l1teg/fp_ntuples/DoubleElectron_FlatPt-1To100_PU200/FP/v102D/perfNano_9026841_0.root': 'Events'}, library='np')"
   ]
  },
  {
   "cell_type": "markdown",
   "id": "8816056c",
   "metadata": {},
   "source": [
    "# 4. Experimenting with .persist() option"
   ]
  },
  {
   "cell_type": "code",
   "execution_count": null,
   "id": "5a050208",
   "metadata": {},
   "outputs": [],
   "source": [
    "import dask.array as da\n",
    "\n",
    "# Create a Dask array\n",
    "x = da.random.random((1000, 1000), chunks=(100, 100))\n",
    "\n",
    "# Perform some operations on the array\n",
    "y = (x + x.T).sum()\n",
    "\n",
    "# Trigger computation and persist result in memory\n",
    "y_persisted = y.persist()"
   ]
  },
  {
   "cell_type": "code",
   "execution_count": null,
   "id": "9cfc2aff",
   "metadata": {},
   "outputs": [],
   "source": [
    "y_persisted.compute()"
   ]
  },
  {
   "cell_type": "markdown",
   "id": "e7cf1c57",
   "metadata": {},
   "source": [
    "# 5. Opening MULTIPLE files using uproot.open"
   ]
  },
  {
   "cell_type": "code",
   "execution_count": 5,
   "id": "67ecae84",
   "metadata": {},
   "outputs": [],
   "source": [
    "file_first =  uproot4.open('root://eoscms.cern.ch//eos/cms/store/cmst3/group/l1tr/cerminar/l1teg/fp_ntuples/DoubleElectron_FlatPt-1To100_PU200/FP/v100D/perfNano_8830991_0.root')\n",
    "tree_first = file_first['Events']\n",
    "\n",
    "file_second =  uproot4.open('root://eoscms.cern.ch//eos/cms/store/cmst3/group/l1tr/cerminar/l1teg/fp_ntuples/DoubleElectron_FlatPt-1To100_PU200/FP/v100D/perfNano_8830991_1.root')\n",
    "tree_second = file_second['Events']\n",
    "\n",
    "arr_first = tree_first.arrays(['nTkEleL2'], library='ak')\n",
    "arr_second = tree_second.arrays(['nTkEleL2'], library='ak')\n",
    "\n",
    "arr_first_second_final = ak.concatenate([arr_first, arr_second])"
   ]
  },
  {
   "cell_type": "code",
   "execution_count": null,
   "id": "4ddaea20",
   "metadata": {},
   "outputs": [],
   "source": [
    "file_third =  up.open('root://eoscms.cern.ch//eos/cms/store/cmst3/group/l1tr/cerminar/l1teg/fp_ntuples/DoubleElectron_FlatPt-1To100_PU200/FP/v100D/perfNano_8830991_0.root')\n",
    "tree_third = file_third['Events']"
   ]
  },
  {
   "cell_type": "markdown",
   "id": "d4adef3e",
   "metadata": {},
   "source": [
    "## 5.1 Checking the input of opened files"
   ]
  },
  {
   "cell_type": "code",
   "execution_count": null,
   "id": "af953118",
   "metadata": {},
   "outputs": [],
   "source": [
    "print(dask_multiple_files['nTkEleL2'])"
   ]
  },
  {
   "cell_type": "code",
   "execution_count": null,
   "id": "e232b440",
   "metadata": {},
   "outputs": [],
   "source": [
    "print(dask_single_file['nTkEleL2'])"
   ]
  },
  {
   "cell_type": "code",
   "execution_count": null,
   "id": "ea2599ce",
   "metadata": {},
   "outputs": [],
   "source": [
    "print(arr[0])"
   ]
  },
  {
   "cell_type": "markdown",
   "id": "8664effb",
   "metadata": {},
   "source": [
    "## 5.2 Functions for set-up of the charts"
   ]
  },
  {
   "cell_type": "code",
   "execution_count": null,
   "id": "3820d890",
   "metadata": {},
   "outputs": [],
   "source": [
    "def plot_chart(data):\n",
    "    # add the axes, finalize with storage\n",
    "    h = (\n",
    "        dah.Hist.new.Reg(50, -5, 5, name=\"S\", label=\"s [units]\", flow=False)\n",
    "        .Reg(50, -5, 5, name=\"W\", label=\"w [units]\", flow=False)\n",
    "        .Double()\n",
    "    )\n",
    "\n",
    "    s_data = data\n",
    "    w_data = data\n",
    "        \n",
    "    # delayed fill\n",
    "    h.fill(W=w_data, S=s_data)\n",
    "    \n",
    "    # auto-plot\n",
    "    fig, axs = plt.subplots(1, 2, figsize=(10, 4))\n",
    "    \n",
    "    h.project(\"W\").plot(ax=axs[0])\n",
    "    h.project(\"W\", \"S\").plot(ax=axs[1])\n",
    "    plt.show()\n",
    "    \n",
    "    return h"
   ]
  },
  {
   "cell_type": "code",
   "execution_count": null,
   "id": "9406e585",
   "metadata": {},
   "outputs": [],
   "source": [
    "def finalize_dask_chart(histogram):\n",
    "    # render in-memory histogram\n",
    "    print(\"COMPUTING THIS: \", histogram)\n",
    "    histogram = histogram.compute()\n",
    "\n",
    "    import matplotlib.pyplot as plt\n",
    "\n",
    "    # auto-plot\n",
    "    fig, axs = plt.subplots(1, 2, figsize=(10, 4))\n",
    "\n",
    "    histogram.project(\"W\").plot(ax=axs[0])\n",
    "    histogram.project(\"W\", \"S\").plot(ax=axs[1])\n",
    "    plt.show()"
   ]
  },
  {
   "cell_type": "markdown",
   "id": "8ec21008",
   "metadata": {},
   "source": [
    "## 5.3 Dask charts: timing of the dask charts"
   ]
  },
  {
   "cell_type": "code",
   "execution_count": null,
   "id": "67fd8ab6",
   "metadata": {},
   "outputs": [],
   "source": [
    "start = time.time()\n",
    "\n",
    "dask_chart_single = plot_chart(dask_single_file['nTkEleL2'])\n",
    "finalize_dask_chart(dask_chart_single)\n",
    "\n",
    "end = time.time()\n",
    "print(end - start)"
   ]
  },
  {
   "cell_type": "markdown",
   "id": "e432df4e",
   "metadata": {},
   "source": [
    "## 5.4  uproot: plot a chart from a single .ROOT file"
   ]
  },
  {
   "cell_type": "code",
   "execution_count": null,
   "id": "9ceda3b7",
   "metadata": {},
   "outputs": [],
   "source": [
    "uproot_chart_single = plot_chart(tree['nTkEleL2'])"
   ]
  },
  {
   "cell_type": "markdown",
   "id": "b665b123",
   "metadata": {},
   "source": [
    "## 5.5 uproot charts: plot a chart from multiple .ROOT files that are stiched via ak.concatenate"
   ]
  },
  {
   "cell_type": "code",
   "execution_count": null,
   "id": "8c65ae69",
   "metadata": {},
   "outputs": [],
   "source": [
    "uproot_multiple_files = plot_chart(arr_first_second_final)"
   ]
  },
  {
   "cell_type": "markdown",
   "id": "5ec18ec9",
   "metadata": {},
   "source": [
    "# 5.6 Compare Dask with single ROOT file VS uproot4 single ROOT file"
   ]
  },
  {
   "cell_type": "markdown",
   "id": "40e3aec0",
   "metadata": {},
   "source": [
    "### 5.6.1 uproot"
   ]
  },
  {
   "cell_type": "code",
   "execution_count": null,
   "id": "437dbcce",
   "metadata": {},
   "outputs": [],
   "source": [
    "bin_contents_uproot = uproot_chart_single.values()\n",
    "\n",
    "print(\"LENGTH OF THE BINS: \",  bin_contents_uproot.size)\n",
    "\n",
    "for i, content in enumerate(bin_contents_uproot):\n",
    "    print(f\"Bin {i}: {content}\")"
   ]
  },
  {
   "cell_type": "markdown",
   "id": "98a5031c",
   "metadata": {},
   "source": [
    "### 5.6.2 dask"
   ]
  },
  {
   "cell_type": "code",
   "execution_count": null,
   "id": "56ef0cb4",
   "metadata": {},
   "outputs": [],
   "source": [
    "bin_contents_dask_single = dask_chart_single.values()\n",
    "\n",
    "print(\"LENGTH OF THE BINS: \",  bin_contents_dask_single.size)\n",
    "\n",
    "for i, content in enumerate(bin_contents_dask_single):\n",
    "    print(f\"Bin {i}: {content}\")"
   ]
  },
  {
   "cell_type": "markdown",
   "id": "86359be6",
   "metadata": {},
   "source": [
    "# 6 Dask charts: opening MULTIPLE ROOT files via multi stage approach"
   ]
  },
  {
   "cell_type": "markdown",
   "id": "8b736539",
   "metadata": {},
   "source": [
    "### plot_chart initializes the initial chart"
   ]
  },
  {
   "cell_type": "code",
   "execution_count": null,
   "id": "3e5b8c2c",
   "metadata": {},
   "outputs": [],
   "source": [
    "dask_chart_multiple = plot_chart(dask_multiple_files['nTkEleL2'])"
   ]
  },
  {
   "cell_type": "markdown",
   "id": "c364da6c",
   "metadata": {},
   "source": [
    "### finalize_dask_chart calls .compute() on the data and plots the chart"
   ]
  },
  {
   "cell_type": "code",
   "execution_count": null,
   "id": "8896257b",
   "metadata": {},
   "outputs": [],
   "source": [
    "finalize_dask_chart(dask_chart_multiple)"
   ]
  },
  {
   "cell_type": "markdown",
   "id": "e0a583ec",
   "metadata": {},
   "source": [
    "## 6.1 Compare Dask with MULTIPLE ROOT file VS uproot4 MULTIPLE ROOT file"
   ]
  },
  {
   "cell_type": "markdown",
   "id": "3b66871b",
   "metadata": {},
   "source": [
    "#### 6.1.1 uproot"
   ]
  },
  {
   "cell_type": "code",
   "execution_count": null,
   "id": "59e58606",
   "metadata": {},
   "outputs": [],
   "source": [
    "bin_contents_uproot_multiple = uproot_chart_multiple.values()\n",
    "\n",
    "print(\"LENGTH OF THE BINS: \",  bin_contents_uproot_multiple.size)\n",
    "\n",
    "for i, content in enumerate(bin_contents_uproot_multiple):\n",
    "    print(f\"Bin {i}: {content}\")"
   ]
  },
  {
   "cell_type": "markdown",
   "id": "5cbc1076",
   "metadata": {},
   "source": [
    "#### 6.1.2 dask"
   ]
  },
  {
   "cell_type": "code",
   "execution_count": null,
   "id": "6cd27cab",
   "metadata": {},
   "outputs": [],
   "source": [
    "bin_contents_dask_multiple = dask_chart_multiple.values()\n",
    "\n",
    "print(\"LENGTH OF THE BINS: \",  bin_contents_dask_multiple.size)\n",
    "\n",
    "for i, content in enumerate(bin_contents_dask_multiple):\n",
    "    print(f\"Bin {i}: {content}\")"
   ]
  }
 ],
 "metadata": {
  "kernelspec": {
   "display_name": "gintautas_fast",
   "language": "python",
   "name": "gintautas_fast"
  },
  "language_info": {
   "codemirror_mode": {
    "name": "ipython",
    "version": 3
   },
   "file_extension": ".py",
   "mimetype": "text/x-python",
   "name": "python",
   "nbconvert_exporter": "python",
   "pygments_lexer": "ipython3",
   "version": "3.9.14"
  },
  "varInspector": {
   "cols": {
    "lenName": 16,
    "lenType": 16,
    "lenVar": 40
   },
   "kernels_config": {
    "python": {
     "delete_cmd_postfix": "",
     "delete_cmd_prefix": "del ",
     "library": "var_list.py",
     "varRefreshCmd": "print(var_dic_list())"
    },
    "r": {
     "delete_cmd_postfix": ") ",
     "delete_cmd_prefix": "rm(",
     "library": "var_list.r",
     "varRefreshCmd": "cat(var_dic_list()) "
    }
   },
   "position": {
    "height": "144.844px",
    "left": "1517px",
    "right": "20px",
    "top": "128px",
    "width": "350px"
   },
   "types_to_exclude": [
    "module",
    "function",
    "builtin_function_or_method",
    "instance",
    "_Feature"
   ],
   "window_display": false
  }
 },
 "nbformat": 4,
 "nbformat_minor": 5
}
